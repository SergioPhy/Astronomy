{
 "cells": [
  {
   "cell_type": "markdown",
   "metadata": {},
   "source": [
    "# Transformation from Equatorial Coordinates to Horizontal Coordinates\n",
    "by Sergio Nuñez"
   ]
  },
  {
   "cell_type": "markdown",
   "metadata": {},
   "source": [
    "I started uploading our cvs data to python using Pandas framework. This framework allows me to have a better manipulation of it."
   ]
  },
  {
   "cell_type": "code",
   "execution_count": 1,
   "metadata": {
    "scrolled": true
   },
   "outputs": [
    {
     "data": {
      "text/html": [
       "<div>\n",
       "<style scoped>\n",
       "    .dataframe tbody tr th:only-of-type {\n",
       "        vertical-align: middle;\n",
       "    }\n",
       "\n",
       "    .dataframe tbody tr th {\n",
       "        vertical-align: top;\n",
       "    }\n",
       "\n",
       "    .dataframe thead th {\n",
       "        text-align: right;\n",
       "    }\n",
       "</style>\n",
       "<table border=\"1\" class=\"dataframe\">\n",
       "  <thead>\n",
       "    <tr style=\"text-align: right;\">\n",
       "      <th></th>\n",
       "      <th>ID</th>\n",
       "      <th>Name</th>\n",
       "      <th>RA</th>\n",
       "      <th>DEC</th>\n",
       "      <th>Obj. Type</th>\n",
       "      <th>Redshift</th>\n",
       "      <th>Host Name</th>\n",
       "      <th>Host Redshift</th>\n",
       "      <th>Reporting Group/s</th>\n",
       "      <th>Discovery Data Source/s</th>\n",
       "      <th>...</th>\n",
       "      <th>Class. Instrument/s</th>\n",
       "      <th>TNS AT</th>\n",
       "      <th>Public</th>\n",
       "      <th>End Prop. Period</th>\n",
       "      <th>Discovery Mag/Flux</th>\n",
       "      <th>Discovery Filter</th>\n",
       "      <th>Discovery Date (UT)</th>\n",
       "      <th>Sender</th>\n",
       "      <th>Remarks</th>\n",
       "      <th>Ext. catalog/s</th>\n",
       "    </tr>\n",
       "  </thead>\n",
       "  <tbody>\n",
       "    <tr>\n",
       "      <th>0</th>\n",
       "      <td>65308</td>\n",
       "      <td>SN 2020rod</td>\n",
       "      <td>21:47:50.615</td>\n",
       "      <td>-11:52:04.61</td>\n",
       "      <td>SN Ia</td>\n",
       "      <td>0.090</td>\n",
       "      <td>NaN</td>\n",
       "      <td>NaN</td>\n",
       "      <td>ZTF</td>\n",
       "      <td>ZTF</td>\n",
       "      <td>...</td>\n",
       "      <td>P60 - SEDM</td>\n",
       "      <td>1</td>\n",
       "      <td>1</td>\n",
       "      <td>NaN</td>\n",
       "      <td>19.93</td>\n",
       "      <td>g-ZTF</td>\n",
       "      <td>2020-08-08 08:02:24.000</td>\n",
       "      <td>ZTF_Bot1</td>\n",
       "      <td>NaN</td>\n",
       "      <td>NaN</td>\n",
       "    </tr>\n",
       "    <tr>\n",
       "      <th>1</th>\n",
       "      <td>65286</td>\n",
       "      <td>SN 2020rni</td>\n",
       "      <td>23:57:46.652</td>\n",
       "      <td>+03:57:45.20</td>\n",
       "      <td>SN Ia</td>\n",
       "      <td>0.094</td>\n",
       "      <td>SDSS J235746+035747</td>\n",
       "      <td>0.094</td>\n",
       "      <td>SIRAH</td>\n",
       "      <td>ZTF</td>\n",
       "      <td>...</td>\n",
       "      <td>SALT - RSS</td>\n",
       "      <td>1</td>\n",
       "      <td>1</td>\n",
       "      <td>NaN</td>\n",
       "      <td>20.72</td>\n",
       "      <td>g-ZTF</td>\n",
       "      <td>2020-08-14 09:48:08.000</td>\n",
       "      <td>Jha</td>\n",
       "      <td>NaN</td>\n",
       "      <td>NaN</td>\n",
       "    </tr>\n",
       "    <tr>\n",
       "      <th>2</th>\n",
       "      <td>65251</td>\n",
       "      <td>SN 2020rlz</td>\n",
       "      <td>00:28:28.304</td>\n",
       "      <td>+48:51:31.57</td>\n",
       "      <td>SN Ia</td>\n",
       "      <td>0.060</td>\n",
       "      <td>NaN</td>\n",
       "      <td>NaN</td>\n",
       "      <td>ZTF</td>\n",
       "      <td>ZTF</td>\n",
       "      <td>...</td>\n",
       "      <td>P60 - SEDM</td>\n",
       "      <td>1</td>\n",
       "      <td>1</td>\n",
       "      <td>NaN</td>\n",
       "      <td>19.51</td>\n",
       "      <td>r-ZTF</td>\n",
       "      <td>2020-08-04 08:48:28.800</td>\n",
       "      <td>ZTF_Bot1</td>\n",
       "      <td>NaN</td>\n",
       "      <td>NaN</td>\n",
       "    </tr>\n",
       "  </tbody>\n",
       "</table>\n",
       "<p>3 rows × 24 columns</p>\n",
       "</div>"
      ],
      "text/plain": [
       "      ID        Name            RA           DEC Obj. Type  Redshift  \\\n",
       "0  65308  SN 2020rod  21:47:50.615  -11:52:04.61     SN Ia     0.090   \n",
       "1  65286  SN 2020rni  23:57:46.652  +03:57:45.20     SN Ia     0.094   \n",
       "2  65251  SN 2020rlz  00:28:28.304  +48:51:31.57     SN Ia     0.060   \n",
       "\n",
       "             Host Name  Host Redshift Reporting Group/s  \\\n",
       "0                  NaN            NaN               ZTF   \n",
       "1  SDSS J235746+035747          0.094             SIRAH   \n",
       "2                  NaN            NaN               ZTF   \n",
       "\n",
       "  Discovery Data Source/s  ... Class. Instrument/s TNS AT Public  \\\n",
       "0                     ZTF  ...          P60 - SEDM      1      1   \n",
       "1                     ZTF  ...          SALT - RSS      1      1   \n",
       "2                     ZTF  ...          P60 - SEDM      1      1   \n",
       "\n",
       "  End Prop. Period Discovery Mag/Flux  Discovery Filter  \\\n",
       "0              NaN              19.93             g-ZTF   \n",
       "1              NaN              20.72             g-ZTF   \n",
       "2              NaN              19.51             r-ZTF   \n",
       "\n",
       "       Discovery Date (UT)    Sender  Remarks Ext. catalog/s  \n",
       "0  2020-08-08 08:02:24.000  ZTF_Bot1      NaN            NaN  \n",
       "1  2020-08-14 09:48:08.000       Jha      NaN            NaN  \n",
       "2  2020-08-04 08:48:28.800  ZTF_Bot1      NaN            NaN  \n",
       "\n",
       "[3 rows x 24 columns]"
      ]
     },
     "execution_count": 1,
     "metadata": {},
     "output_type": "execute_result"
    }
   ],
   "source": [
    "import pandas as pd\n",
    "data = pd.read_csv ('/Users/usuario/Python/Astronomy/Supernovae/tns_search.csv')\n",
    "data[:3]"
   ]
  },
  {
   "cell_type": "markdown",
   "metadata": {},
   "source": [
    "I defined some useful functions:\n",
    "    1. hms2dec: Transform HMS notation to degrees (HMS notations is very common in right ascention).\n",
    "    2. dms2dec: Transform DMS notation to degrees (DMS notation is very common in declination).\n",
    "    3. RA_to_deg: This loop allows to transform all the row of RA to degrees.\n",
    "    4. DEC_to_deg: This loop allow to transform all the row of DEC to degrees."
   ]
  },
  {
   "cell_type": "code",
   "execution_count": 2,
   "metadata": {},
   "outputs": [],
   "source": [
    "#Useful functions\n",
    "def hms2dec(h,m,s):\n",
    "    r_a = 15*(h + m/60 + s/3600)\n",
    "    return r_a\n",
    "\n",
    "def dms2dec(d,m,s):\n",
    "    dec = abs(d) + m/60 + s/3600\n",
    "    sign = d/abs(d)\n",
    "    return sign*dec\n",
    "\n",
    "#Right Ascention in degrees\n",
    "def RA_to_deg(data):\n",
    "    ra_str_in_deg = []\n",
    "\n",
    "    for ra_raw in data:\n",
    "        #print(ra_raw)\n",
    "        tempo1 = ra_raw.split(':')\n",
    "        #print(tempo1)\n",
    "        h=float(tempo1[0])\n",
    "        m=float(tempo1[1])\n",
    "        s=float(tempo1[2])\n",
    "        \n",
    "        ra_deg = hms2dec(h,m,s)\n",
    "    \n",
    "        ra_str_in_deg.append(ra_deg)\n",
    "    \n",
    "    return ra_str_in_deg\n",
    "\n",
    "#Declination in degrees\n",
    "def DEC_to_deg(data):\n",
    "    dec_str_in_deg = []\n",
    "    \n",
    "    for dec_raw in data:\n",
    "        tempo1 = dec_raw.split(':')\n",
    "        #print(tempo1)\n",
    "        d = float(tempo1[0])\n",
    "        m = float(tempo1[1])\n",
    "        s = float(tempo1[2])\n",
    "    \n",
    "        dec_deg = dms2dec(d,m,s)\n",
    "    \n",
    "        dec_str_in_deg.append(dec_deg)\n",
    "\n",
    "    return dec_str_in_deg"
   ]
  },
  {
   "cell_type": "markdown",
   "metadata": {},
   "source": [
    "I take only what I want, right ascention (RA) and declination (DEC), which will store in ra and dec, respectivetly. And then, I use the above functions and Pandas data frame to find right ascention and declination in degrees. They are store in ra_in_deg and dec_in_deg, respectivetly."
   ]
  },
  {
   "cell_type": "code",
   "execution_count": 3,
   "metadata": {},
   "outputs": [],
   "source": [
    "ra=data['RA']\n",
    "dec=data['DEC']"
   ]
  },
  {
   "cell_type": "code",
   "execution_count": 25,
   "metadata": {},
   "outputs": [
    {
     "data": {
      "text/html": [
       "<div>\n",
       "<style scoped>\n",
       "    .dataframe tbody tr th:only-of-type {\n",
       "        vertical-align: middle;\n",
       "    }\n",
       "\n",
       "    .dataframe tbody tr th {\n",
       "        vertical-align: top;\n",
       "    }\n",
       "\n",
       "    .dataframe thead th {\n",
       "        text-align: right;\n",
       "    }\n",
       "</style>\n",
       "<table border=\"1\" class=\"dataframe\">\n",
       "  <thead>\n",
       "    <tr style=\"text-align: right;\">\n",
       "      <th></th>\n",
       "      <th>RA</th>\n",
       "    </tr>\n",
       "  </thead>\n",
       "  <tbody>\n",
       "    <tr>\n",
       "      <th>0</th>\n",
       "      <td>326.960896</td>\n",
       "    </tr>\n",
       "    <tr>\n",
       "      <th>1</th>\n",
       "      <td>359.444383</td>\n",
       "    </tr>\n",
       "    <tr>\n",
       "      <th>2</th>\n",
       "      <td>7.117933</td>\n",
       "    </tr>\n",
       "  </tbody>\n",
       "</table>\n",
       "</div>"
      ],
      "text/plain": [
       "           RA\n",
       "0  326.960896\n",
       "1  359.444383\n",
       "2    7.117933"
      ]
     },
     "execution_count": 25,
     "metadata": {},
     "output_type": "execute_result"
    }
   ],
   "source": [
    "ra_in_deg = pd.DataFrame(RA_to_deg(ra), columns=['RA'])\n",
    "ra_in_deg[:3]"
   ]
  },
  {
   "cell_type": "code",
   "execution_count": 12,
   "metadata": {},
   "outputs": [
    {
     "data": {
      "text/html": [
       "<div>\n",
       "<style scoped>\n",
       "    .dataframe tbody tr th:only-of-type {\n",
       "        vertical-align: middle;\n",
       "    }\n",
       "\n",
       "    .dataframe tbody tr th {\n",
       "        vertical-align: top;\n",
       "    }\n",
       "\n",
       "    .dataframe thead th {\n",
       "        text-align: right;\n",
       "    }\n",
       "</style>\n",
       "<table border=\"1\" class=\"dataframe\">\n",
       "  <thead>\n",
       "    <tr style=\"text-align: right;\">\n",
       "      <th></th>\n",
       "      <th>DEC</th>\n",
       "    </tr>\n",
       "  </thead>\n",
       "  <tbody>\n",
       "    <tr>\n",
       "      <th>0</th>\n",
       "      <td>-11.867947</td>\n",
       "    </tr>\n",
       "    <tr>\n",
       "      <th>1</th>\n",
       "      <td>3.962556</td>\n",
       "    </tr>\n",
       "    <tr>\n",
       "      <th>2</th>\n",
       "      <td>48.858769</td>\n",
       "    </tr>\n",
       "  </tbody>\n",
       "</table>\n",
       "</div>"
      ],
      "text/plain": [
       "         DEC\n",
       "0 -11.867947\n",
       "1   3.962556\n",
       "2  48.858769"
      ]
     },
     "execution_count": 12,
     "metadata": {},
     "output_type": "execute_result"
    }
   ],
   "source": [
    "dec_in_deg = pd.DataFrame(DEC_to_deg(dec), columns=['DEC'])\n",
    "dec_in_deg[:3]"
   ]
  },
  {
   "cell_type": "markdown",
   "metadata": {},
   "source": [
    "Short example of how I'll work with the rows of ra_in_deg and dec_in_deg"
   ]
  },
  {
   "cell_type": "code",
   "execution_count": 34,
   "metadata": {},
   "outputs": [
    {
     "data": {
      "text/plain": [
       "0      326.960896\n",
       "1      359.444383\n",
       "2        7.117933\n",
       "3      345.290037\n",
       "4      358.749854\n",
       "          ...    \n",
       "121    198.722667\n",
       "122    251.645250\n",
       "123    185.015708\n",
       "124    239.679542\n",
       "125    338.350029\n",
       "Name: RA, Length: 126, dtype: float64"
      ]
     },
     "execution_count": 34,
     "metadata": {},
     "output_type": "execute_result"
    }
   ],
   "source": [
    "ra_in_deg.loc[:]['RA'] #they're float"
   ]
  },
  {
   "cell_type": "markdown",
   "metadata": {},
   "source": [
    "The fun starts now. I import astropy commands for the transformation from equatorial coordinates to horizontal coordinates."
   ]
  },
  {
   "cell_type": "code",
   "execution_count": 30,
   "metadata": {},
   "outputs": [],
   "source": [
    "from astropy import units as u\n",
    "from astropy.coordinates import SkyCoord\n",
    "from astropy.coordinates import EarthLocation\n",
    "from astropy.time import Time\n",
    "import numpy as np"
   ]
  },
  {
   "cell_type": "markdown",
   "metadata": {},
   "source": [
    "With SkyCoord I upload all the data of right ascention and declination to be worked in astorpy. They are stored in test.\n",
    "With EarthLocation I define the position of the observatory. It is stored in moquegua."
   ]
  },
  {
   "cell_type": "code",
   "execution_count": 35,
   "metadata": {},
   "outputs": [],
   "source": [
    "test = SkyCoord(ra_in_deg.loc[:]['RA']*u.deg, dec_in_deg.loc[:]['DEC']*u.deg, frame='icrs')\n",
    "#print(test)"
   ]
  },
  {
   "cell_type": "code",
   "execution_count": 39,
   "metadata": {},
   "outputs": [],
   "source": [
    "moquegua = EarthLocation(lat=-16.828161*u.deg, lon=-70.678569*u.deg, height=3300*u.m)"
   ]
  },
  {
   "cell_type": "code",
   "execution_count": 40,
   "metadata": {},
   "outputs": [],
   "source": [
    "observing_time = ('2020-08-30 23:00') #18:00 for Peru"
   ]
  },
  {
   "cell_type": "code",
   "execution_count": 41,
   "metadata": {},
   "outputs": [
    {
     "name": "stdout",
     "output_type": "stream",
     "text": [
      "<AltAz Frame (obstime=2020-08-30 23:00:00.000, location=(2021560.10303719, -5765754.96312368, -1835594.27902581) m, pressure=0.0 hPa, temperature=0.0 deg_C, relative_humidity=0.0, obswl=1.0 micron)>\n"
     ]
    }
   ],
   "source": [
    "from astropy.coordinates import AltAz\n",
    "\n",
    "aa = AltAz(location=moquegua, obstime=observing_time)\n",
    "print(aa)"
   ]
  },
  {
   "cell_type": "code",
   "execution_count": 44,
   "metadata": {},
   "outputs": [],
   "source": [
    "alt = test.transform_to(aa).alt\n",
    "az = test.transform_to(aa).az"
   ]
  },
  {
   "cell_type": "code",
   "execution_count": 48,
   "metadata": {},
   "outputs": [
    {
     "data": {
      "text/latex": [
       "$96^\\circ55{}^\\prime43.9836{}^{\\prime\\prime}$"
      ],
      "text/plain": [
       "<Longitude 96.92888434 deg>"
      ]
     },
     "execution_count": 48,
     "metadata": {},
     "output_type": "execute_result"
    }
   ],
   "source": [
    "az[0]"
   ]
  },
  {
   "cell_type": "code",
   "execution_count": null,
   "metadata": {},
   "outputs": [],
   "source": []
  }
 ],
 "metadata": {
  "kernelspec": {
   "display_name": "Python 3",
   "language": "python",
   "name": "python3"
  },
  "language_info": {
   "codemirror_mode": {
    "name": "ipython",
    "version": 3
   },
   "file_extension": ".py",
   "mimetype": "text/x-python",
   "name": "python",
   "nbconvert_exporter": "python",
   "pygments_lexer": "ipython3",
   "version": "3.7.6"
  }
 },
 "nbformat": 4,
 "nbformat_minor": 4
}
